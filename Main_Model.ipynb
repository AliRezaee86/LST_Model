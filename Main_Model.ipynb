{
 "cells": [
  {
   "cell_type": "code",
   "execution_count": 1,
   "metadata": {},
   "outputs": [
    {
     "ename": "FileNotFoundError",
     "evalue": "[WinError 3] The system cannot find the path specified: 'ETA_Khuzestan_2000_2023/test'",
     "output_type": "error",
     "traceback": [
      "\u001b[1;31m---------------------------------------------------------------------------\u001b[0m",
      "\u001b[1;31mFileNotFoundError\u001b[0m                         Traceback (most recent call last)",
      "Cell \u001b[1;32mIn[1], line 56\u001b[0m\n\u001b[0;32m     53\u001b[0m folder_path \u001b[38;5;241m=\u001b[39m \u001b[38;5;124m'\u001b[39m\u001b[38;5;124mETA_Khuzestan_2000_2023/test\u001b[39m\u001b[38;5;124m'\u001b[39m\n\u001b[0;32m     54\u001b[0m file_prefix \u001b[38;5;241m=\u001b[39m \u001b[38;5;124m'\u001b[39m\u001b[38;5;124maet_1km_\u001b[39m\u001b[38;5;124m'\u001b[39m\n\u001b[1;32m---> 56\u001b[0m dataset_ETA \u001b[38;5;241m=\u001b[39m \u001b[43mbuild_xarray_dataset\u001b[49m\u001b[43m(\u001b[49m\u001b[43mfolder_path\u001b[49m\u001b[43m,\u001b[49m\u001b[43m \u001b[49m\u001b[43mfile_prefix\u001b[49m\u001b[43m)\u001b[49m\n\u001b[0;32m     58\u001b[0m \u001b[38;5;66;03m# Example: Inspect the dataset\u001b[39;00m\n\u001b[0;32m     59\u001b[0m \u001b[38;5;28mprint\u001b[39m(dataset_ETA)\n",
      "Cell \u001b[1;32mIn[1], line 10\u001b[0m, in \u001b[0;36mbuild_xarray_dataset\u001b[1;34m(folder_path, file_prefix, start_month)\u001b[0m\n\u001b[0;32m      7\u001b[0m \u001b[38;5;28;01mdef\u001b[39;00m \u001b[38;5;21mbuild_xarray_dataset\u001b[39m(folder_path, file_prefix, start_month\u001b[38;5;241m=\u001b[39m\u001b[38;5;241m1\u001b[39m):\n\u001b[0;32m      8\u001b[0m     \u001b[38;5;66;03m# List TIFF files with the specified prefix\u001b[39;00m\n\u001b[0;32m      9\u001b[0m     tiff_files \u001b[38;5;241m=\u001b[39m [\n\u001b[1;32m---> 10\u001b[0m         os\u001b[38;5;241m.\u001b[39mpath\u001b[38;5;241m.\u001b[39mjoin(folder_path, f) \u001b[38;5;28;01mfor\u001b[39;00m f \u001b[38;5;129;01min\u001b[39;00m \u001b[43mos\u001b[49m\u001b[38;5;241;43m.\u001b[39;49m\u001b[43mlistdir\u001b[49m\u001b[43m(\u001b[49m\u001b[43mfolder_path\u001b[49m\u001b[43m)\u001b[49m\n\u001b[0;32m     11\u001b[0m         \u001b[38;5;28;01mif\u001b[39;00m f\u001b[38;5;241m.\u001b[39mstartswith(file_prefix) \u001b[38;5;129;01mand\u001b[39;00m f\u001b[38;5;241m.\u001b[39mendswith(\u001b[38;5;124m'\u001b[39m\u001b[38;5;124m.tif\u001b[39m\u001b[38;5;124m'\u001b[39m)\n\u001b[0;32m     12\u001b[0m     ]\n\u001b[0;32m     13\u001b[0m     tiff_files\u001b[38;5;241m.\u001b[39msort()  \u001b[38;5;66;03m# Ensure files are processed in order\u001b[39;00m\n\u001b[0;32m     15\u001b[0m     all_data \u001b[38;5;241m=\u001b[39m []\n",
      "\u001b[1;31mFileNotFoundError\u001b[0m: [WinError 3] The system cannot find the path specified: 'ETA_Khuzestan_2000_2023/test'"
     ]
    }
   ],
   "source": [
    "import os\n",
    "import rasterio\n",
    "import numpy as np\n",
    "import pandas as pd\n",
    "import xarray as xr\n",
    "\n",
    "def build_xarray_dataset(folder_path, file_prefix, start_month=1):\n",
    "    # List TIFF files with the specified prefix\n",
    "    tiff_files = [\n",
    "        os.path.join(folder_path, f) for f in os.listdir(folder_path)\n",
    "        if f.startswith(file_prefix) and f.endswith('.tif')\n",
    "    ]\n",
    "    tiff_files.sort()  # Ensure files are processed in order\n",
    "    \n",
    "    all_data = []\n",
    "    all_time_indices = []\n",
    "\n",
    "    for file_path in tiff_files:\n",
    "        # Extract year from file name (e.g., 'aet_1km_2000_...')\n",
    "        file_year = int(file_path.split('_')[-2])\n",
    "        start_date = pd.Timestamp(year=file_year, month=start_month, day=1)\n",
    "        \n",
    "        with rasterio.open(file_path) as src:\n",
    "            # Read all bands and get spatial info\n",
    "            bands = [src.read(band) for band in range(1, src.count + 1)]\n",
    "            time_index = pd.date_range(start=start_date, periods=src.count, freq=\"ME\")\n",
    "            all_data.append(np.stack(bands, axis=0))\n",
    "            all_time_indices.extend(time_index)\n",
    "            \n",
    "            # Get spatial coordinates from the first file\n",
    "            if len(all_data) == 1:\n",
    "                transform = src.transform\n",
    "                latitudes = np.arange(src.height) * transform[4] + transform[5]\n",
    "                longitudes = np.arange(src.width) * transform[0] + transform[2]\n",
    "    \n",
    "    # Combine all data along the time dimension\n",
    "    all_data_combined = np.concatenate(all_data, axis=0)\n",
    "    \n",
    "    # Create xarray.Dataset\n",
    "    dataset_ETA = xr.Dataset(\n",
    "        {\n",
    "            \"value\": ([\"time\", \"latitude\", \"longitude\"], all_data_combined)\n",
    "        },\n",
    "        coords={\n",
    "            \"time\": pd.to_datetime(all_time_indices),\n",
    "            \"latitude\": latitudes,\n",
    "            \"longitude\": longitudes\n",
    "        }\n",
    "    )\n",
    "    return dataset_ETA\n",
    "\n",
    "# Example usage\n",
    "folder_path = 'ETA_Khuzestan_2000_2023/test'\n",
    "file_prefix = 'aet_1km_'\n",
    "\n",
    "dataset_ETA = build_xarray_dataset(folder_path, file_prefix)\n",
    "\n",
    "# Example: Inspect the dataset\n",
    "print(dataset_ETA)\n"
   ]
  },
  {
   "cell_type": "code",
   "execution_count": null,
   "metadata": {},
   "outputs": [],
   "source": [
    "dataset_ETA"
   ]
  }
 ],
 "metadata": {
  "kernelspec": {
   "display_name": "Python 3",
   "language": "python",
   "name": "python3"
  },
  "language_info": {
   "codemirror_mode": {
    "name": "ipython",
    "version": 3
   },
   "file_extension": ".py",
   "mimetype": "text/x-python",
   "name": "python",
   "nbconvert_exporter": "python",
   "pygments_lexer": "ipython3",
   "version": "3.11.8"
  }
 },
 "nbformat": 4,
 "nbformat_minor": 2
}
